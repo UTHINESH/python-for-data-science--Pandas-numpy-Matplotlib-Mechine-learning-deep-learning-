{
 "cells": [
  {
   "cell_type": "code",
   "execution_count": 17,
   "id": "eee42c6f",
   "metadata": {},
   "outputs": [
    {
     "name": "stdout",
     "output_type": "stream",
     "text": [
      "9\n",
      "1\n",
      "1\n",
      "4\n",
      "int32\n"
     ]
    }
   ],
   "source": [
    "import numpy as np\n",
    "a=np.array([5,8,9,1])\n",
    "print(a[2])\n",
    "print(a[3])\n",
    "print(a.ndim)       # shows the dimension\n",
    "print(a.itemsize)   # shows the bytes\n",
    "print(a.dtype)      # shows the datatype\n"
   ]
  },
  {
   "cell_type": "code",
   "execution_count": 21,
   "id": "4c0ed032",
   "metadata": {},
   "outputs": [
    {
     "name": "stdout",
     "output_type": "stream",
     "text": [
      "[[2. 1.]\n",
      " [3. 5.]\n",
      " [8. 3.]]\n",
      "3.0\n",
      "2\n",
      "8\n",
      "float64\n",
      "6\n",
      "(3, 2)\n"
     ]
    }
   ],
   "source": [
    "a=np.array([[2,1],[3,5],[8,3]],dtype=np.float64)\n",
    "print(a)\n",
    "print(a[2][1])\n",
    "print(a.ndim)\n",
    "print(a.itemsize)\n",
    "print(a.dtype)\n",
    "print(a.size)       # shows the total number of element\n",
    "print(a.shape)      # shows the number of rows and columns"
   ]
  },
  {
   "cell_type": "code",
   "execution_count": 29,
   "id": "40776df1",
   "metadata": {},
   "outputs": [
    {
     "name": "stdout",
     "output_type": "stream",
     "text": [
      "[[0 0]\n",
      " [0 0]\n",
      " [0 0]]\n",
      "[[1 1]\n",
      " [1 1]\n",
      " [1 1]]\n"
     ]
    },
    {
     "data": {
      "text/plain": [
       "array([[1, 1, 1],\n",
       "       [1, 1, 1],\n",
       "       [1, 1, 1]])"
      ]
     },
     "execution_count": 29,
     "metadata": {},
     "output_type": "execute_result"
    }
   ],
   "source": [
    "a=np.zeros((3,2),dtype=np.int32)\n",
    "print(a)\n",
    "b=np.ones((3,2),dtype=np.int32)\n",
    "print(b)\n",
    "np.ones((3,3),dtype=np.int32)"
   ]
  },
  {
   "cell_type": "code",
   "execution_count": 31,
   "id": "93f9e946",
   "metadata": {},
   "outputs": [
    {
     "name": "stdout",
     "output_type": "stream",
     "text": [
      "range(0, 5)\n"
     ]
    },
    {
     "data": {
      "text/plain": [
       "4"
      ]
     },
     "execution_count": 31,
     "metadata": {},
     "output_type": "execute_result"
    }
   ],
   "source": [
    "l=range(5)       #range function\n",
    "print(l)\n",
    "l[4]"
   ]
  },
  {
   "cell_type": "code",
   "execution_count": 35,
   "id": "a0636dfc",
   "metadata": {},
   "outputs": [
    {
     "name": "stdout",
     "output_type": "stream",
     "text": [
      "[1 2 3 4]\n"
     ]
    },
    {
     "data": {
      "text/plain": [
       "array([1, 3, 5, 7, 9])"
      ]
     },
     "execution_count": 35,
     "metadata": {},
     "output_type": "execute_result"
    }
   ],
   "source": [
    "print(np.arange(1,5))    #numpy array range function parameters(start,end,step)\n",
    "np.arange(1,10,2)\n"
   ]
  },
  {
   "cell_type": "code",
   "execution_count": 40,
   "id": "06aa3331",
   "metadata": {},
   "outputs": [
    {
     "name": "stdout",
     "output_type": "stream",
     "text": [
      "[1.   1.25 1.5  1.75 2.  ]\n"
     ]
    },
    {
     "data": {
      "text/plain": [
       "array([ 0.        ,  0.52631579,  1.05263158,  1.57894737,  2.10526316,\n",
       "        2.63157895,  3.15789474,  3.68421053,  4.21052632,  4.73684211,\n",
       "        5.26315789,  5.78947368,  6.31578947,  6.84210526,  7.36842105,\n",
       "        7.89473684,  8.42105263,  8.94736842,  9.47368421, 10.        ])"
      ]
     },
     "execution_count": 40,
     "metadata": {},
     "output_type": "execute_result"
    }
   ],
   "source": [
    "print(np.linspace(1,2,5))     #linear space(it will generate 5 numbers in between 1 and 2)\n",
    "\n",
    "np.linspace(0,10,20)\n"
   ]
  },
  {
   "cell_type": "code",
   "execution_count": 52,
   "id": "c2ea69db",
   "metadata": {},
   "outputs": [
    {
     "name": "stdout",
     "output_type": "stream",
     "text": [
      "[[2 1]\n",
      " [3 5]\n",
      " [8 3]]\n",
      "\n",
      "(3, 2)\n",
      "\n",
      "[[2 1 3]\n",
      " [5 8 3]]\n",
      "\n",
      "[2 1 3 5 8 3]\n"
     ]
    }
   ],
   "source": [
    "a=np.array([[2,1],[3,5],[8,3]],dtype=np.int32)\n",
    "print(a)\n",
    "\n",
    "\n",
    "print()\n",
    "print(a.shape)\n",
    "\n",
    "\n",
    "print()\n",
    "print(a.reshape(2,3))  # it reshape the array for any dimension\n",
    "\n",
    "\n",
    "print()\n",
    "print(a.ravel())  # it coverts the array in one dimension"
   ]
  },
  {
   "cell_type": "code",
   "execution_count": 57,
   "id": "e9463123",
   "metadata": {},
   "outputs": [
    {
     "name": "stdout",
     "output_type": "stream",
     "text": [
      "1\n",
      "8\n",
      "22\n"
     ]
    }
   ],
   "source": [
    "a=np.array([[2,1],\n",
    "            [3,5],\n",
    "            [8,3]],\n",
    "           dtype=np.int32)\n",
    "\n",
    "print(a.min())\n",
    "\n",
    "print(a.max())\n",
    "\n",
    "print(a.sum())"
   ]
  },
  {
   "cell_type": "code",
   "execution_count": 63,
   "id": "750afdf2",
   "metadata": {},
   "outputs": [
    {
     "name": "stdout",
     "output_type": "stream",
     "text": [
      "[13  9]\n",
      "[ 3  8 11]\n"
     ]
    }
   ],
   "source": [
    "print(a.sum(axis=0))   # it print sum of rows only   *here 2 rows\n",
    "\n",
    "print(a.sum(axis=1))   # it print sum of colomns only  *here 3 columns"
   ]
  },
  {
   "cell_type": "code",
   "execution_count": 64,
   "id": "40d010f8",
   "metadata": {},
   "outputs": [
    {
     "name": "stdout",
     "output_type": "stream",
     "text": [
      "[[1.41421356 1.        ]\n",
      " [1.73205081 2.23606798]\n",
      " [2.82842712 1.73205081]]\n",
      "2.2852182001336816\n"
     ]
    }
   ],
   "source": [
    "print(np.sqrt(a))    # it print sqr root of all the number in the array\n",
    "print(np.std(a))      # it print standard deviation \n",
    "                       # for all the values in the given array"
   ]
  },
  {
   "cell_type": "code",
   "execution_count": 66,
   "id": "cf79ffbd",
   "metadata": {},
   "outputs": [
    {
     "name": "stdout",
     "output_type": "stream",
     "text": [
      "[[ 6  8]\n",
      " [10 12]]\n",
      "[[-4 -4]\n",
      " [-4 -4]]\n",
      "[[ 5 12]\n",
      " [21 32]]\n",
      "[[0.2        0.33333333]\n",
      " [0.42857143 0.5       ]]\n"
     ]
    }
   ],
   "source": [
    "a=np.array([[1,2],\n",
    "            [3,4]])       # arithimrtic opp of two arrays\n",
    "\n",
    "\n",
    "b=np.array([[5,6],\n",
    "            [7,8]])\n",
    "\n",
    "print (a+b)\n",
    "print (a-b)\n",
    "print (a*b)\n",
    "print (a/b)"
   ]
  },
  {
   "cell_type": "code",
   "execution_count": 67,
   "id": "b5d79873",
   "metadata": {},
   "outputs": [
    {
     "data": {
      "text/plain": [
       "array([[19, 22],\n",
       "       [43, 50]])"
      ]
     },
     "execution_count": 67,
     "metadata": {},
     "output_type": "execute_result"
    }
   ],
   "source": [
    "print(a.dot(b))           # we can also perform matrics product"
   ]
  },
  {
   "cell_type": "code",
   "execution_count": null,
   "id": "0aa429e3",
   "metadata": {},
   "outputs": [],
   "source": []
  }
 ],
 "metadata": {
  "kernelspec": {
   "display_name": "Python 3 (ipykernel)",
   "language": "python",
   "name": "python3"
  },
  "language_info": {
   "codemirror_mode": {
    "name": "ipython",
    "version": 3
   },
   "file_extension": ".py",
   "mimetype": "text/x-python",
   "name": "python",
   "nbconvert_exporter": "python",
   "pygments_lexer": "ipython3",
   "version": "3.11.5"
  }
 },
 "nbformat": 4,
 "nbformat_minor": 5
}
